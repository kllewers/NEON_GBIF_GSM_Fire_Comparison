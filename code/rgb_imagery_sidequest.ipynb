{
 "cells": [
  {
   "cell_type": "code",
   "execution_count": 4,
   "metadata": {},
   "outputs": [
    {
     "data": {
      "text/html": [
       "\n",
       "            <style>\n",
       "                .geemap-dark {\n",
       "                    --jp-widgets-color: white;\n",
       "                    --jp-widgets-label-color: white;\n",
       "                    --jp-ui-font-color1: white;\n",
       "                    --jp-layout-color2: #454545;\n",
       "                    background-color: #383838;\n",
       "                }\n",
       "\n",
       "                .geemap-dark .jupyter-button {\n",
       "                    --jp-layout-color3: #383838;\n",
       "                }\n",
       "\n",
       "                .geemap-colab {\n",
       "                    background-color: var(--colab-primary-surface-color, white);\n",
       "                }\n",
       "\n",
       "                .geemap-colab .jupyter-button {\n",
       "                    --jp-layout-color3: var(--colab-primary-surface-color, white);\n",
       "                }\n",
       "            </style>\n",
       "            "
      ],
      "text/plain": [
       "<IPython.core.display.HTML object>"
      ]
     },
     "metadata": {},
     "output_type": "display_data"
    },
    {
     "name": "stdout",
     "output_type": "stream",
     "text": [
      "Available RGB Image IDs: ['2014_HARV_2', '2016_HARV_3', '2016_JERC_2', '2016_TALL_2', '2017_CLBJ_2', '2017_GRSM_3', '2017_HARV_4', '2017_JERC_3', '2017_MLBS_2', '2017_SERC_3', '2017_SRER_1', '2017_TALL_3', '2018_CLBJ_3', '2018_HARV_5', '2018_JERC_4', '2018_MLBS_3', '2018_OAES_3', '2018_SRER_2', '2018_TALL_4', '2018_TEAK_3', '2019_BART_5', '2019_CLBJ_4', '2019_HARV_6', '2019_HEAL_3', '2019_JERC_5', '2019_JORN_3', '2019_OAES_4', '2019_SERC_4', '2019_SOAP_4', '2019_SRER_3', '2019_TALL_5', '2020_CPER_7', '2020_NIWO_4', '2020_RMNP_3', '2020_UKFS_5', '2020_UNDE_4', '2020_YELL_3', '2021_ABBY_4', '2021_BLAN_4', '2021_BONA_4', '2021_CLBJ_5', '2021_DEJU_4', '2021_DELA_6', '2021_HEAL_4', '2021_JERC_6', '2021_JORN_4', '2021_LENO_6', '2021_MLBS_4', '2021_OAES_5', '2021_OSBS_6', '2021_SERC_5', '2021_SJER_5', '2021_SOAP_5', '2021_SRER_4', '2021_TALL_6', '2021_WREF_4', '2022_ABBY_5', '2022_ARIK_4', '2022_BART_6', '2022_BLAN_5', '2022_CHEQ_7', '2022_CLBJ_6', '2022_CUPE_2', '2022_GRSM_7', '2022_GUAN_2', '2022_GUIL_2', '2022_HARV_7', '2022_HOPB_4', '2022_JORN_5', '2022_KONZ_7', '2022_LAJA_2', '2022_LIRO_3', '2022_MCDI_3', '2022_MCRA_3', '2022_MLBS_5', '2022_MOAB_6', '2022_OAES_6', '2022_ONAQ_4', '2022_PRIN_5', '2022_REDB_4', '2022_RMNP_4', '2022_SCBI_5', '2022_SERC_6', '2022_SRER_5', '2022_STEI_5', '2022_STER_4', '2022_TOOL_4', '2022_UKFS_6', '2022_UNDE_5', '2022_WREF_5', '2022_YELL_4', '2023_ABBY_6', '2023_ARIK_5', '2023_BONA_5', '2023_CLBJ_7', '2023_DEJU_5', '2023_DELA_7', '2023_DSNY_7', '2023_HEAL_5', '2023_JERC_7', '2023_KONZ_8', '2023_LENO_7', '2023_MCRA_4', '2023_MLBS_6', '2023_MOAB_7', '2023_NIWO_5', '2023_NOGP_6', '2023_OAES_7', '2023_ONAQ_5', '2023_OSBS_7', '2023_PRIN_6', '2023_REDB_5', '2023_RMNP_5', '2023_SCBI_6', '2023_SJER_6', '2023_SOAP_6', '2023_SOAP_7', '2023_TALL_7', '2023_TEAK_6', '2023_UKFS_7', '2023_WLOU_4', '2023_WOOD_6', '2023_WREF_6', '2023_YELL_5', '2024_ARIK_6', '2024_BART_7', '2024_BONA_6', '2024_CHEQ_8', '2024_CLBJ_8', '2024_CPER_10', '2024_DEJU_6', '2024_DELA_8', '2024_HARV_8', '2024_HEAL_6', '2024_HOPB_5', '2024_JERC_8', '2024_KONZ_10', '2024_KONZ_9', '2024_LENO_8', '2024_LIRO_4', '2024_MCDI_4', '2024_NIWO_6', '2024_OAES_8', '2024_PRIN_7', '2024_SJER_7', '2024_SOAP_8', '2024_SRER_6', '2024_STEI_6', '2024_STER_5', '2024_TALL_8', '2024_TEAK_7', '2024_UKFS_8', '2024_UNDE_6', '2024_WLOU_5']\n"
     ]
    },
    {
     "data": {
      "application/vnd.jupyter.widget-view+json": {
       "model_id": "6a4bdfdfedcf45ce8bd3ab287ed5a8ea",
       "version_major": 2,
       "version_minor": 0
      },
      "text/plain": [
       "Map(center=[35.7, -83.5], controls=(WidgetControl(options=['position', 'transparent_bg'], widget=SearchDataGUI…"
      ]
     },
     "execution_count": 4,
     "metadata": {},
     "output_type": "execute_result"
    }
   ],
   "source": [
    "import ee\n",
    "import geemap\n",
    "\n",
    "ee.Authenticate()\n",
    "ee.Initialize(project=\"ee-krle4401\")\n",
    "\n",
    "site_center = ee.Geometry.Point([-83.5, 35.7])\n",
    "\n",
    "# Create a geemap Map instance\n",
    "Map = geemap.Map(center=[35.7, -83.5], zoom=11)\n",
    "\n",
    "# Load the native NEON RGB image collection\n",
    "rgb_collection = ee.ImageCollection('projects/neon-prod-earthengine/assets/RGB/001')\n",
    "\n",
    "# Optionally, print available image IDs to inspect the collection\n",
    "rgb_ids = rgb_collection.aggregate_array(\"system:index\").getInfo()\n",
    "print(\"Available RGB Image IDs:\", rgb_ids)\n",
    "\n",
    "# Example: filter for images from 2016 (adjust filter as needed)\n",
    "rgb_2016 = rgb_collection.filter(ee.Filter.stringContains(\"system:index\", \"2016\")).first()\n",
    "\n",
    "# Define visualization parameters for true color imagery\n",
    "rgb_vis_params = {\n",
    "    'min': 0,\n",
    "    'max': 255,\n",
    "    'bands': ['R', 'G', 'B']  # Typically the native band names\n",
    "}\n",
    "\n",
    "# Add the native RGB layer to the map\n",
    "Map.addLayer(rgb_2016, rgb_vis_params, \"Native NEON RGB 2016\")\n",
    "\n",
    "# Display the map\n",
    "Map\n"
   ]
  }
 ],
 "metadata": {
  "kernelspec": {
   "display_name": "env",
   "language": "python",
   "name": "python3"
  },
  "language_info": {
   "codemirror_mode": {
    "name": "ipython",
    "version": 3
   },
   "file_extension": ".py",
   "mimetype": "text/x-python",
   "name": "python",
   "nbconvert_exporter": "python",
   "pygments_lexer": "ipython3",
   "version": "3.13.1"
  }
 },
 "nbformat": 4,
 "nbformat_minor": 2
}
