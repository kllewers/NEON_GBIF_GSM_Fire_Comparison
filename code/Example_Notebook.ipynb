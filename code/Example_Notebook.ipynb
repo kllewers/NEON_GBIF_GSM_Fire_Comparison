{
 "cells": [
  {
   "cell_type": "markdown",
   "metadata": {},
   "source": [
    "## Exploring NEON (National Ecological Observatory Network) AOP (Airborne Operations Platform) and NEON BioRepository Data Together"
   ]
  },
  {
   "cell_type": "markdown",
   "metadata": {},
   "source": [
    "##### In this project, we will be looking at NEON AOP data for 2016 and 2017 in the GRSM (Great Smokey Mountains) Domain. Between the 2016 and 2017 collection of data, a large fire occurred in the domain leaving a prominent burn scar. We will be using the GEE (Google Earth Engine) API to explore the burn scar using the NBR (Normalize Burn Ratio) to set a threshold to identify burnt areas. We will then us the PyGBIF API (Python Global Biodiversity Information Facility) to pull records from the NEON BioRepository to see if and/or how Carabid beetle traps in the domain were impacted by the fires."
   ]
  },
  {
   "cell_type": "markdown",
   "metadata": {},
   "source": [
    "## Part 1: Pulling + Visualizing Imagery and Occurence Records via APIs"
   ]
  },
  {
   "cell_type": "markdown",
   "metadata": {},
   "source": []
  },
  {
   "cell_type": "markdown",
   "metadata": {},
   "source": [
    "#### Step 1: Import and authenticate GEE and geemap with your username and project"
   ]
  },
  {
   "cell_type": "code",
   "execution_count": 38,
   "metadata": {},
   "outputs": [
    {
     "data": {
      "text/html": [
       "\n",
       "            <style>\n",
       "                .geemap-dark {\n",
       "                    --jp-widgets-color: white;\n",
       "                    --jp-widgets-label-color: white;\n",
       "                    --jp-ui-font-color1: white;\n",
       "                    --jp-layout-color2: #454545;\n",
       "                    background-color: #383838;\n",
       "                }\n",
       "\n",
       "                .geemap-dark .jupyter-button {\n",
       "                    --jp-layout-color3: #383838;\n",
       "                }\n",
       "\n",
       "                .geemap-colab {\n",
       "                    background-color: var(--colab-primary-surface-color, white);\n",
       "                }\n",
       "\n",
       "                .geemap-colab .jupyter-button {\n",
       "                    --jp-layout-color3: var(--colab-primary-surface-color, white);\n",
       "                }\n",
       "            </style>\n",
       "            "
      ],
      "text/plain": [
       "<IPython.core.display.HTML object>"
      ]
     },
     "metadata": {},
     "output_type": "display_data"
    }
   ],
   "source": [
    "import ee\n",
    "import geemap\n",
    "\n",
    "# Authenticate and initialize Earth Engine\n",
    "ee.Authenticate()\n",
    "ee.Initialize(project=\"ee-krle4401\")"
   ]
  },
  {
   "cell_type": "markdown",
   "metadata": {},
   "source": [
    "#### Step 2: Pull NEON Imagery from GEE"
   ]
  },
  {
   "cell_type": "code",
   "execution_count": null,
   "metadata": {},
   "outputs": [
    {
     "data": {
      "text/html": [
       "\n",
       "            <style>\n",
       "                .geemap-dark {\n",
       "                    --jp-widgets-color: white;\n",
       "                    --jp-widgets-label-color: white;\n",
       "                    --jp-ui-font-color1: white;\n",
       "                    --jp-layout-color2: #454545;\n",
       "                    background-color: #383838;\n",
       "                }\n",
       "\n",
       "                .geemap-dark .jupyter-button {\n",
       "                    --jp-layout-color3: #383838;\n",
       "                }\n",
       "\n",
       "                .geemap-colab {\n",
       "                    background-color: var(--colab-primary-surface-color, white);\n",
       "                }\n",
       "\n",
       "                .geemap-colab .jupyter-button {\n",
       "                    --jp-layout-color3: var(--colab-primary-surface-color, white);\n",
       "                }\n",
       "            </style>\n",
       "            "
      ],
      "text/plain": [
       "<IPython.core.display.HTML object>"
      ]
     },
     "metadata": {},
     "output_type": "display_data"
    },
    {
     "name": "stdout",
     "output_type": "stream",
     "text": [
      "Available AOP Image IDs: ['2013_CPER_1', '2014_HARV_2', '2014_JERC_1', '2015_MLBS_1', '2015_TALL_1', '2016_CLBJ_1', '2016_GRSM_2', '2016_HARV_3', '2016_JERC_2', '2016_SERC_1', '2016_TALL_2', '2017_CLBJ_2', '2017_CPER_3', '2017_GRSM_3', '2017_HARV_4', '2017_JERC_3', '2017_MLBS_2', '2017_OAES_2', '2017_SERC_3', '2017_SRER_1', '2017_TALL_3', '2018_GUAN_1', '2018_HARV_5', '2018_JERC_4', '2018_MCRA_1', '2018_MLBS_3', '2018_OAES_3', '2018_SRER_2', '2018_TALL_4', '2019_CLBJ_4', '2019_HARV_6', '2019_HEAL_3', '2019_JERC_5', '2019_JORN_3', '2019_NIWO_3', '2019_OAES_4', '2019_SERC_4', '2019_SOAP_4', '2019_SRER_3', '2019_TALL_5', '2020_CPER_5', '2020_CPER_7', '2020_NIWO_4', '2020_RMNP_3', '2020_YELL_3', '2021_ABBY_4', '2021_BONA_4', '2021_CLBJ_5', '2021_CPER_8', '2021_HEAL_4', '2021_JERC_6', '2021_JORN_4', '2021_MCRA_2', '2021_OAES_5', '2021_OSBS_6', '2021_SERC_5', '2021_SJER_5', '2021_SOAP_5', '2021_SRER_4', '2021_TALL_6']\n",
      "Found AOP images: {('2016', 'GRSM'): ['2016_GRSM_2'], ('2017', 'GRSM'): ['2017_GRSM_3']}\n"
     ]
    }
   ],
   "source": [
    "# Define an area of interest, for the imagery, I will simply be using a centroid because I want all\n",
    "# the imagery from GRSM domain. You can using a bounding box, shapefiles, etc. if you want a more granular\n",
    "# control of the geographic area\n",
    "site_center = ee.Geometry.Point([-83.5, 35.7])\n",
    "\n",
    "# Load Hyperspectral AOP Image Collection\n",
    "sdr_col = ee.ImageCollection('projects/neon-prod-earthengine/assets/HSI_REFL/001')\n",
    "\n",
    "# Retrieve all available image IDs to make a list if you want to see everything, but also to cross \n",
    "# reference years you may want\n",
    "image_ids = sdr_col.aggregate_array(\"system:index\").getInfo()\n",
    "print(\"Available AOP Image IDs:\", image_ids)\n",
    "\n",
    "# Define a function that allows you to look through multiple years and domains of image collections\n",
    "def filter_aop_images(years, domains):\n",
    "    \"\"\"\n",
    "    Filters the AOP image collection based on a list of years and domains.\n",
    "    \n",
    "    Parameters:\n",
    "        years (list): List of years (e.g., [\"2016\", \"2017\"]).\n",
    "        domains (list): List of 4-letter site codes (e.g., [\"GRSM\", \"HARV\"]).\n",
    "    \n",
    "    Returns:\n",
    "        Dictionary with (year, domain) as key and list of matching image IDs.\n",
    "    \"\"\"\n",
    "    filtered_results = {}\n",
    "\n",
    "    for year in years:\n",
    "        for domain in domains:\n",
    "            matching_ids = [img_id for img_id in image_ids if year in img_id and domain in img_id]\n",
    "            if matching_ids:\n",
    "                filtered_results[(year, domain)] = matching_ids\n",
    "\n",
    "    return filtered_results\n",
    "\n",
    "# Define years and domains that you want to look at (NOTE: this code can be used from multiple years\n",
    "# and domains)\n",
    "years_input = [\"2016\", \"2017\"]  # Add multiple years here\n",
    "domains_input = [\"GRSM\"]  # Add multiple domains here\n",
    "\n",
    "# Get image filtered by year and domain\n",
    "filtered_images = filter_aop_images(years_input, domains_input)\n",
    "\n",
    "# NEON does not fly every single domain every year so there may be years where imagery is unavailable\n",
    "# I like to have a conditional statement so I can easily check if there are no images available, but \n",
    "# also print a list in case only some years are available\n",
    "if not filtered_images:\n",
    "    print(f\"No AOP images found for the selected years and domains.\")\n",
    "else:\n",
    "    print(f\"Found AOP images: {filtered_images}\")\n"
   ]
  },
  {
   "cell_type": "markdown",
   "metadata": {},
   "source": [
    "#### Step 2: Calculate NBR (Normalized Burn Ratio) and visualize for 2016 and 2017 imagery"
   ]
  },
  {
   "cell_type": "code",
   "execution_count": 32,
   "metadata": {},
   "outputs": [
    {
     "data": {
      "text/html": [
       "\n",
       "            <style>\n",
       "                .geemap-dark {\n",
       "                    --jp-widgets-color: white;\n",
       "                    --jp-widgets-label-color: white;\n",
       "                    --jp-ui-font-color1: white;\n",
       "                    --jp-layout-color2: #454545;\n",
       "                    background-color: #383838;\n",
       "                }\n",
       "\n",
       "                .geemap-dark .jupyter-button {\n",
       "                    --jp-layout-color3: #383838;\n",
       "                }\n",
       "\n",
       "                .geemap-colab {\n",
       "                    background-color: var(--colab-primary-surface-color, white);\n",
       "                }\n",
       "\n",
       "                .geemap-colab .jupyter-button {\n",
       "                    --jp-layout-color3: var(--colab-primary-surface-color, white);\n",
       "                }\n",
       "            </style>\n",
       "            "
      ],
      "text/plain": [
       "<IPython.core.display.HTML object>"
      ]
     },
     "metadata": {},
     "output_type": "display_data"
    },
    {
     "name": "stdout",
     "output_type": "stream",
     "text": [
      "NBR computed for AOP image: 2016_GRSM_2\n",
      "NBR computed for AOP image: 2017_GRSM_3\n",
      "NBR visualization saved: AOP_NBR_2016_2017_GRSM.html\n"
     ]
    }
   ],
   "source": [
    "# NBR Visualization Parameters\n",
    "nbr_vis_params = {\n",
    "    'min': -1, 'max': 1,\n",
    "    'palette': ['white', 'yellow', 'red', 'black']  # typical burn severity color ramp\n",
    "}\n",
    "\n",
    "# Function to Compute NBR\n",
    "def addNBRBands(image):\n",
    "    nbr = image.normalizedDifference(['B097', 'B220']).rename('NBR')\n",
    "    return image.addBands(nbr).set({'Sensor': 'AOP'})\n",
    "\n",
    "# Create a geemap Map instance for NBR visualization\n",
    "NBR_Map = geemap.Map()\n",
    "NBR_Map.centerObject(site_center, 11)\n",
    "\n",
    "# Loop through filtered images and compute NBR\n",
    "for (year, domain), image_ids in filtered_images.items():\n",
    "    for image_id in image_ids:\n",
    "        # Retrieve the image by its system:index\n",
    "        aop_image = sdr_col.filter(ee.Filter.eq(\"system:index\", image_id)).first()\n",
    "\n",
    "        # Compute NBR\n",
    "        if aop_image:\n",
    "            aop_nbr = addNBRBands(aop_image).select('NBR')\n",
    "            print(f\"NBR computed for AOP image: {image_id}\")\n",
    "\n",
    "            # Add layer with proper naming\n",
    "            NBR_Map.addLayer(aop_nbr, nbr_vis_params, f'AOP NBR ({image_id})')\n",
    "\n",
    "# Save the final interactive HTML map for NBR\n",
    "html_nbr_filename = f\"AOP_NBR_{'_'.join(years_input)}_{'_'.join(domains_input)}.html\"\n",
    "NBR_Map.to_html(filename=html_nbr_filename)\n",
    "\n",
    "print(f\"NBR visualization saved: {html_nbr_filename}\")"
   ]
  },
  {
   "cell_type": "markdown",
   "metadata": {},
   "source": [
    "#### Import the Python GBIF API with necessary packages for geometry and data analysis"
   ]
  },
  {
   "cell_type": "code",
   "execution_count": 33,
   "metadata": {},
   "outputs": [
    {
     "data": {
      "text/html": [
       "\n",
       "            <style>\n",
       "                .geemap-dark {\n",
       "                    --jp-widgets-color: white;\n",
       "                    --jp-widgets-label-color: white;\n",
       "                    --jp-ui-font-color1: white;\n",
       "                    --jp-layout-color2: #454545;\n",
       "                    background-color: #383838;\n",
       "                }\n",
       "\n",
       "                .geemap-dark .jupyter-button {\n",
       "                    --jp-layout-color3: #383838;\n",
       "                }\n",
       "\n",
       "                .geemap-colab {\n",
       "                    background-color: var(--colab-primary-surface-color, white);\n",
       "                }\n",
       "\n",
       "                .geemap-colab .jupyter-button {\n",
       "                    --jp-layout-color3: var(--colab-primary-surface-color, white);\n",
       "                }\n",
       "            </style>\n",
       "            "
      ],
      "text/plain": [
       "<IPython.core.display.HTML object>"
      ]
     },
     "metadata": {},
     "output_type": "display_data"
    },
    {
     "name": "stderr",
     "output_type": "stream",
     "text": [
      "INFO:Created 416 records\n"
     ]
    }
   ],
   "source": [
    "from pygbif import occurrences as gbif_occ\n",
    "import geopandas as gpd\n",
    "from shapely.geometry import Polygon\n",
    "import pandas as pd\n",
    "\n",
    "# GSMNP centroid and bounding box parameters\n",
    "latitude, longitude = 35.6118, -83.4895\n",
    "bbox_size_deg = 0.09  # Approx. 10 km (~0.09 degrees)\n",
    "\n",
    "# Create bounding box polygon\n",
    "bounding_box_coords = [\n",
    "    (longitude - bbox_size_deg, latitude - bbox_size_deg),  # Bottom-left\n",
    "    (longitude + bbox_size_deg, latitude - bbox_size_deg),  # Bottom-right\n",
    "    (longitude + bbox_size_deg, latitude + bbox_size_deg),  # Top-right\n",
    "    (longitude - bbox_size_deg, latitude + bbox_size_deg),  # Top-left\n",
    "    (longitude - bbox_size_deg, latitude - bbox_size_deg)   # Close polygon\n",
    "]\n",
    "bounding_polygon = Polygon(bounding_box_coords)\n",
    "polygon_wkt = bounding_polygon.wkt\n",
    "\n",
    "# Get carabid records\n",
    "carabid_records = []\n",
    "carabid_taxon_key = 3792  # <-- update with correct taxon key for Carabidae\n",
    "for year in [2016, 2017]:\n",
    "    occurrences = gbif_occ.search(\n",
    "        taxonKey=carabid_taxon_key,\n",
    "        geometry=polygon_wkt,\n",
    "        year=year,\n",
    "        hasCoordinate=True,\n",
    "        limit=300\n",
    "    )\n",
    "    prefix = f\"grsm.{year}\".lower()\n",
    "    for occ in occurrences.get(\"results\", []):\n",
    "        if \"eventID\" in occ and occ[\"eventID\"].lower().startswith(prefix):\n",
    "            try:\n",
    "                lat = float(occ[\"decimalLatitude\"])\n",
    "                lon = float(occ[\"decimalLongitude\"])\n",
    "                carabid_records.append({\n",
    "                    \"species\": occ.get(\"species\", \"Unknown\"),\n",
    "                    \"latitude\": lat,\n",
    "                    \"longitude\": lon,\n",
    "                    \"year\": year,\n",
    "                    \"eventID\": occ.get(\"eventID\")\n",
    "                })\n",
    "            except (KeyError, TypeError, ValueError):\n",
    "                continue\n",
    "\n",
    "# Convert carabid records to GeoDataFrame and export as GeoJSON and CSV\n",
    "carabid_gdf = gpd.GeoDataFrame(\n",
    "    carabid_records,\n",
    "    geometry=gpd.points_from_xy(\n",
    "        [r['longitude'] for r in carabid_records],\n",
    "        [r['latitude'] for r in carabid_records]\n",
    "    ),\n",
    "    crs=\"EPSG:4326\"\n",
    ")\n",
    "carabid_gdf.to_file(\"gbif_carabids_gsmnp_2016_2017.geojson\", driver=\"GeoJSON\")\n",
    "carabid_gdf.drop(columns='geometry').to_csv(\"gbif_carabids_gsmnp_2016_2017.csv\", index=False)\n"
   ]
  },
  {
   "cell_type": "markdown",
   "metadata": {},
   "source": [
    "#### Visualize AOP Imagery and GBIF records together"
   ]
  },
  {
   "cell_type": "code",
   "execution_count": 34,
   "metadata": {},
   "outputs": [
    {
     "data": {
      "text/html": [
       "\n",
       "            <style>\n",
       "                .geemap-dark {\n",
       "                    --jp-widgets-color: white;\n",
       "                    --jp-widgets-label-color: white;\n",
       "                    --jp-ui-font-color1: white;\n",
       "                    --jp-layout-color2: #454545;\n",
       "                    background-color: #383838;\n",
       "                }\n",
       "\n",
       "                .geemap-dark .jupyter-button {\n",
       "                    --jp-layout-color3: #383838;\n",
       "                }\n",
       "\n",
       "                .geemap-colab {\n",
       "                    background-color: var(--colab-primary-surface-color, white);\n",
       "                }\n",
       "\n",
       "                .geemap-colab .jupyter-button {\n",
       "                    --jp-layout-color3: var(--colab-primary-surface-color, white);\n",
       "                }\n",
       "            </style>\n",
       "            "
      ],
      "text/plain": [
       "<IPython.core.display.HTML object>"
      ]
     },
     "metadata": {},
     "output_type": "display_data"
    },
    {
     "name": "stdout",
     "output_type": "stream",
     "text": [
      "Combined map saved as: Combined_NBR_GBIF_NBR_Map.html\n"
     ]
    }
   ],
   "source": [
    "# Load GBIF records from the GeoJSON file\n",
    "gbif_geojson = \"gbif_carabids_gsmnp_2016_2017.geojson\"\n",
    "carabid_gdf = gpd.read_file(gbif_geojson)\n",
    "\n",
    "# Separate the GBIF records by year\n",
    "carabid_2016 = carabid_gdf[carabid_gdf[\"year\"] == 2016]\n",
    "carabid_2017 = carabid_gdf[carabid_gdf[\"year\"] == 2017]\n",
    "\n",
    "# Add the GBIF points to the map as separate layers\n",
    "NBR_Map.add_gdf(carabid_2016, layer_name=\"GBIF NEON Carabidae Trap Records 2016\")\n",
    "NBR_Map.add_gdf(carabid_2017, layer_name=\"GBIF NEON Carabidae Trap Records 2017\")\n",
    "\n",
    "# (Optional) Save the interactive NBR_map to an HTML file\n",
    "output_html = \"Combined_NBR_GBIF_NBR_Map.html\"\n",
    "NBR_Map.to_html(filename=output_html)\n",
    "print(f\"Combined map saved as: {output_html}\")"
   ]
  },
  {
   "cell_type": "markdown",
   "metadata": {},
   "source": [
    "## Part 2: Digging a little deeper with Analysis"
   ]
  },
  {
   "cell_type": "code",
   "execution_count": 39,
   "metadata": {},
   "outputs": [
    {
     "data": {
      "text/html": [
       "\n",
       "            <style>\n",
       "                .geemap-dark {\n",
       "                    --jp-widgets-color: white;\n",
       "                    --jp-widgets-label-color: white;\n",
       "                    --jp-ui-font-color1: white;\n",
       "                    --jp-layout-color2: #454545;\n",
       "                    background-color: #383838;\n",
       "                }\n",
       "\n",
       "                .geemap-dark .jupyter-button {\n",
       "                    --jp-layout-color3: #383838;\n",
       "                }\n",
       "\n",
       "                .geemap-colab {\n",
       "                    background-color: var(--colab-primary-surface-color, white);\n",
       "                }\n",
       "\n",
       "                .geemap-colab .jupyter-button {\n",
       "                    --jp-layout-color3: var(--colab-primary-surface-color, white);\n",
       "                }\n",
       "            </style>\n",
       "            "
      ],
      "text/plain": [
       "<IPython.core.display.HTML object>"
      ]
     },
     "metadata": {},
     "output_type": "display_data"
    },
    {
     "name": "stdout",
     "output_type": "stream",
     "text": [
      "Burn scar map saved as: Burn_Scar_Map.html\n",
      "Export of burn scar shapefile initiated.\n"
     ]
    }
   ],
   "source": [
    "\n",
    "\n",
    "# --- STEP 1: Select pre-fire and post-fire images ---\n",
    "# Assuming filtered_images is a dictionary with keys like ('2016', 'GRSM') and ('2017', 'GRSM')\n",
    "# Here we simply choose the first image ID for each year.\n",
    "pre_fire_img_id = filtered_images.get(('2016', 'GRSM'))[0]\n",
    "post_fire_img_id = filtered_images.get(('2017', 'GRSM'))[0]\n",
    "\n",
    "# Retrieve the images from the collection\n",
    "pre_fire_image = sdr_col.filter(ee.Filter.eq(\"system:index\", pre_fire_img_id)).first()\n",
    "post_fire_image = sdr_col.filter(ee.Filter.eq(\"system:index\", post_fire_img_id)).first()\n",
    "\n",
    "# --- STEP 2: Compute NBR for each image using your function ---\n",
    "pre_fire_nbr = addNBRBands(pre_fire_image).select('NBR')\n",
    "post_fire_nbr = addNBRBands(post_fire_image).select('NBR')\n",
    "\n",
    "# --- STEP 3: Calculate dNBR (difference NBR) ---\n",
    "dnbr = pre_fire_nbr.subtract(post_fire_nbr).rename('dNBR')\n",
    "\n",
    "# --- STEP 4: Apply a threshold to classify burned areas ---\n",
    "# Example: mark pixels as burned if dNBR > 0.27 (indicative of moderate to high burn severity)\n",
    "burn_threshold = 0.27  # This value may be adjusted based on local calibration or sensor characteristics.\n",
    "burned_area_mask = dnbr.gt(burn_threshold)\n",
    "\n",
    "# Optional: visualize burned vs unburned areas using a simple palette.\n",
    "dnbr_viz_params = {\n",
    "    'min': 0,\n",
    "    'max': 1,\n",
    "    'palette': ['white', 'orange', 'red']\n",
    "}\n",
    "\n",
    "# --- STEP 5: Vectorize the Burn Scar Mask ---\n",
    "# Define a region of interest (ROI) for vectorization.\n",
    "# You might base this on an extent around your site_center; here we buffer the center by 5000m.\n",
    "roi = site_center.buffer(5000)\n",
    "\n",
    "# Convert the burned area mask into vectors (polygons)\n",
    "burn_vectors = burned_area_mask.selfMask().reduceToVectors(\n",
    "    geometry=roi,\n",
    "    crs=post_fire_image.projection(), \n",
    "    scale=10,  # Adjust scale (pixel size) as appropriate for the data.\n",
    "    geometryType='polygon',\n",
    "    labelProperty='burned',\n",
    "    reducer=ee.Reducer.countEvery()\n",
    ")\n",
    "\n",
    "# --- STEP 6: Visualize the dNBR, burned area, and vectorized burn scar on the map ---\n",
    "# Create a geemap Map instance (if not already created)\n",
    "NBR_Map = geemap.Map()\n",
    "NBR_Map.centerObject(site_center, 11)\n",
    "\n",
    "# Add dNBR layer\n",
    "NBR_Map.addLayer(dnbr, dnbr_viz_params, 'dNBR (Pre-fire minus Post-fire)')\n",
    "\n",
    "# Add burned area mask layer\n",
    "NBR_Map.addLayer(burned_area_mask.selfMask(), {'palette': 'red'}, 'Burned Area Mask')\n",
    "\n",
    "# Add burn scar vectors layer\n",
    "NBR_Map.addLayer(burn_vectors, {}, 'Burn Scar Polygons')\n",
    "\n",
    "# Optionally, save the interactive map\n",
    "output_html = \"Burn_Scar_Map.html\"\n",
    "NBR_Map.to_html(filename=output_html)\n",
    "print(f\"Burn scar map saved as: {output_html}\")\n",
    "\n",
    "# --- Optional: Export the burn scar vectors as a shapefile ---\n",
    "# If you wish to export the vector data from Earth Engine, use Export.table.toDrive.\n",
    "export_task = ee.batch.Export.table.toDrive(\n",
    "    collection=burn_vectors,\n",
    "    description='BurnScar_Shapefile_Export',\n",
    "    folder='EarthEngineExports',\n",
    "    fileFormat='SHP'\n",
    ")\n",
    "export_task.start()\n",
    "print(\"Export of burn scar shapefile initiated.\")\n"
   ]
  },
  {
   "cell_type": "markdown",
   "metadata": {},
   "source": [
    "#### Compare overall trap collections abundance year to year"
   ]
  },
  {
   "cell_type": "code",
   "execution_count": 43,
   "metadata": {},
   "outputs": [
    {
     "data": {
      "text/html": [
       "\n",
       "            <style>\n",
       "                .geemap-dark {\n",
       "                    --jp-widgets-color: white;\n",
       "                    --jp-widgets-label-color: white;\n",
       "                    --jp-ui-font-color1: white;\n",
       "                    --jp-layout-color2: #454545;\n",
       "                    background-color: #383838;\n",
       "                }\n",
       "\n",
       "                .geemap-dark .jupyter-button {\n",
       "                    --jp-layout-color3: #383838;\n",
       "                }\n",
       "\n",
       "                .geemap-colab {\n",
       "                    background-color: var(--colab-primary-surface-color, white);\n",
       "                }\n",
       "\n",
       "                .geemap-colab .jupyter-button {\n",
       "                    --jp-layout-color3: var(--colab-primary-surface-color, white);\n",
       "                }\n",
       "            </style>\n",
       "            "
      ],
      "text/plain": [
       "<IPython.core.display.HTML object>"
      ]
     },
     "metadata": {},
     "output_type": "display_data"
    },
    {
     "data": {
      "image/png": "[encoded data removed]",
      "text/plain": [
       "<Figure size 1400x700 with 1 Axes>"
      ]
     },
     "metadata": {},
     "output_type": "display_data"
    }
   ],
   "source": [
    "import matplotlib.pyplot as plt\n",
    "\n",
    "# Load the GBIF records from your GeoJSON file\n",
    "gdf = gpd.read_file(\"gbif_carabids_gsmnp_2016_2017.geojson\")\n",
    "\n",
    "# Create a new column that identifies each unique location by combining latitude and longitude as a string.\n",
    "# Adjust formatting as needed.\n",
    "gdf['location'] = gdf['latitude'].astype(str) + \", \" + gdf['longitude'].astype(str)\n",
    "\n",
    "# Group by year and location, counting the number of occurrences (abundance) per location for each year.\n",
    "abundance_by_loc = gdf.groupby(['year', 'location']).size().reset_index(name='count')\n",
    "\n",
    "# Pivot the grouped DataFrame so that each unique location is a row and the columns are the counts for each year.\n",
    "pivot_abundance = abundance_by_loc.pivot(index='location', columns='year', values='count').fillna(0)\n",
    "\n",
    "# For clarity, sort the locations (this step is optional and dependent on your preference)\n",
    "pivot_abundance = pivot_abundance.sort_index()\n",
    "\n",
    "# Plot a grouped bar chart (histogram style) with unique locations on the x-axis and counts as bar heights.\n",
    "ax = pivot_abundance.plot(kind='bar', figsize=(14, 7))\n",
    "\n",
    "ax.set_xlabel(\"Lat, Long Location\")\n",
    "ax.set_ylabel(\"Abundance (Count)\")\n",
    "ax.set_title(\"Abundance per Unique Location in 2016 vs 2017\")\n",
    "ax.legend(title=\"Year\")\n",
    "plt.xticks(rotation=90)  # Rotate x-axis labels for better readability\n",
    "\n",
    "plt.tight_layout()\n",
    "plt.show()\n",
    "\n",
    "\n"
   ]
  },
  {
   "cell_type": "markdown",
   "metadata": {},
   "source": [
    "#### Compare species from year to year"
   ]
  },
  {
   "cell_type": "code",
   "execution_count": 44,
   "metadata": {},
   "outputs": [
    {
     "data": {
      "text/html": [
       "\n",
       "            <style>\n",
       "                .geemap-dark {\n",
       "                    --jp-widgets-color: white;\n",
       "                    --jp-widgets-label-color: white;\n",
       "                    --jp-ui-font-color1: white;\n",
       "                    --jp-layout-color2: #454545;\n",
       "                    background-color: #383838;\n",
       "                }\n",
       "\n",
       "                .geemap-dark .jupyter-button {\n",
       "                    --jp-layout-color3: #383838;\n",
       "                }\n",
       "\n",
       "                .geemap-colab {\n",
       "                    background-color: var(--colab-primary-surface-color, white);\n",
       "                }\n",
       "\n",
       "                .geemap-colab .jupyter-button {\n",
       "                    --jp-layout-color3: var(--colab-primary-surface-color, white);\n",
       "                }\n",
       "            </style>\n",
       "            "
      ],
      "text/plain": [
       "<IPython.core.display.HTML object>"
      ]
     },
     "metadata": {},
     "output_type": "display_data"
    },
    {
     "name": "stdout",
     "output_type": "stream",
     "text": [
      "                    species   latitude  longitude  year       eventID  \\\n",
      "0   Cyclotrachelus freitagi  35.664490 -83.524234  2016  GRSM.2016.18   \n",
      "1     Pterostichus acutipes  35.679121 -83.482275  2016  GRSM.2016.18   \n",
      "2  Gastrellarius blanchardi  35.664490 -83.524234  2016  GRSM.2016.18   \n",
      "3             Tachys laevus  35.664490 -83.524234  2016  GRSM.2016.18   \n",
      "4  Sphaeroderus bicarinatus  35.670778 -83.481653  2016  GRSM.2016.18   \n",
      "\n",
      "                     geometry  \n",
      "0  POINT (-83.52423 35.66449)  \n",
      "1  POINT (-83.48228 35.67912)  \n",
      "2  POINT (-83.52423 35.66449)  \n",
      "3  POINT (-83.52423 35.66449)  \n",
      "4  POINT (-83.48165 35.67078)  \n",
      "year                       2016  2017\n",
      "species                              \n",
      "Amphasia interstitialis       0     3\n",
      "Anillinus langdoni            0     2\n",
      "Aulacopodus brouni            1     0\n",
      "Carabus goryi                43    53\n",
      "Cyclotrachelus freitagi      17     5\n",
      "Cyclotrachelus sigillatus    32     2\n",
      "Cylindera unipunctata         2     1\n",
      "Dicaelus dilatatus           22    23\n",
      "Dicaelus politus              0     1\n",
      "Dicaelus teter               27    15\n",
      "Galerita bicolor             12     0\n",
      "Gastrellarius blanchardi      1     0\n",
      "Notiophilus aeneus            0     1\n",
      "Pasimachus punctulatus       13    13\n",
      "Pterostichus acutipes        32    16\n",
      "Pterostichus coracinus        1     0\n",
      "Pterostichus moestus         14     0\n",
      "Pterostichus stygicus         1     0\n",
      "Pterostichus tristis         15     3\n",
      "Scaphinotus andrewsii         5     0\n",
      "Scaphinotus guyotii           3     0\n",
      "Sphaeroderus bicarinatus     13     1\n",
      "Sphaeroderus canadensis       9     0\n",
      "Sphaeroderus stenostomus     10     3\n",
      "Tachys laevus                 1     0\n"
     ]
    },
    {
     "data": {
      "image/png": "[encoded data removed]",
      "text/plain": [
       "<Figure size 1200x800 with 1 Axes>"
      ]
     },
     "metadata": {},
     "output_type": "display_data"
    }
   ],
   "source": [
    "# Load the GBIF records from your GeoJSON file\n",
    "gbif_geojson = \"gbif_carabids_gsmnp_2016_2017.geojson\"\n",
    "gdf = gpd.read_file(gbif_geojson)\n",
    "\n",
    "# Preview the data to ensure species and year fields are present\n",
    "print(gdf.head())\n",
    "\n",
    "# Group the data by species and year, and count the number of occurrences per group\n",
    "# This creates a DataFrame with species as index and each year as a column.\n",
    "species_counts = gdf.groupby([\"species\", \"year\"]).size().unstack(fill_value=0)\n",
    "\n",
    "# Display the DataFrame to verify the counts (optional)\n",
    "print(species_counts)\n",
    "\n",
    "# Plotting the counts in a grouped bar chart\n",
    "ax = species_counts.plot(kind='bar', figsize=(12, 8))\n",
    "\n",
    "# Add labels and title\n",
    "ax.set_xlabel(\"Species\")\n",
    "ax.set_ylabel(\"Number of Occurrences\")\n",
    "ax.set_title(\"Carabidae Species Occurrences: 2016 vs 2017\")\n",
    "ax.legend(title=\"Year\")\n",
    "\n",
    "plt.tight_layout()\n",
    "plt.show()\n"
   ]
  },
  {
   "cell_type": "markdown",
   "metadata": {},
   "source": [
    "#### NBR values as a proxy for burn severity compared to trap areas"
   ]
  }
 ],
 "metadata": {
  "language_info": {
   "name": "python"
  }
 },
 "nbformat": 4,
 "nbformat_minor": 2
}
