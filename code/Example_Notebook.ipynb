{
 "cells": [
  {
   "cell_type": "markdown",
   "metadata": {},
   "source": [
    "In this notebook, I will be pulling imagery from the year before a fire in the Great Smoky Mountains and after the fire. We will be comparing NDVI, NBR, and MSMI and pulling species occurrence records from before and after the fire and see how it overlaps with occurrence records."
   ]
  },
  {
   "cell_type": "markdown",
   "metadata": {},
   "source": [
    "#### Declare ROI"
   ]
  },
  {
   "cell_type": "code",
   "execution_count": 8,
   "metadata": {},
   "outputs": [
    {
     "ename": "ModuleNotFoundError",
     "evalue": "No module named 'StringIO'",
     "output_type": "error",
     "traceback": [
      "\u001b[31m---------------------------------------------------------------------------\u001b[39m",
      "\u001b[31mModuleNotFoundError\u001b[39m                       Traceback (most recent call last)",
      "\u001b[36mCell\u001b[39m\u001b[36m \u001b[39m\u001b[32mIn[8]\u001b[39m\u001b[32m, line 1\u001b[39m\n\u001b[32m----> \u001b[39m\u001b[32m1\u001b[39m \u001b[38;5;28;01mimport\u001b[39;00m\u001b[38;5;250m \u001b[39m\u001b[34;01mee\u001b[39;00m\n\u001b[32m      2\u001b[39m \u001b[38;5;28;01mimport\u001b[39;00m\u001b[38;5;250m \u001b[39m\u001b[34;01mgeemap\u001b[39;00m\n\u001b[32m      4\u001b[39m \u001b[38;5;66;03m# Authenticate and initialize Earth Engine\u001b[39;00m\n",
      "\u001b[36mFile \u001b[39m\u001b[32m~/NEON_GBIF_Burn_Scar/env/lib/python3.13/site-packages/ee/__init__.py:1\u001b[39m\n\u001b[32m----> \u001b[39m\u001b[32m1\u001b[39m \u001b[38;5;28;01mfrom\u001b[39;00m\u001b[38;5;250m \u001b[39m\u001b[34;01m.\u001b[39;00m\u001b[34;01mmain\u001b[39;00m\u001b[38;5;250m \u001b[39m\u001b[38;5;28;01mimport\u001b[39;00m main\n",
      "\u001b[36mFile \u001b[39m\u001b[32m~/NEON_GBIF_Burn_Scar/env/lib/python3.13/site-packages/ee/main.py:10\u001b[39m\n\u001b[32m      8\u001b[39m \u001b[38;5;28;01mimport\u001b[39;00m\u001b[38;5;250m \u001b[39m\u001b[34;01mstat\u001b[39;00m\n\u001b[32m      9\u001b[39m \u001b[38;5;28;01mimport\u001b[39;00m\u001b[38;5;250m \u001b[39m\u001b[34;01mplistlib\u001b[39;00m\n\u001b[32m---> \u001b[39m\u001b[32m10\u001b[39m \u001b[38;5;28;01mimport\u001b[39;00m\u001b[38;5;250m \u001b[39m\u001b[34;01mStringIO\u001b[39;00m\n\u001b[32m     11\u001b[39m \u001b[38;5;28;01mimport\u001b[39;00m\u001b[38;5;250m \u001b[39m\u001b[34;01mplatform\u001b[39;00m\n\u001b[32m     12\u001b[39m \u001b[38;5;28;01mimport\u001b[39;00m\u001b[38;5;250m \u001b[39m\u001b[34;01mtime\u001b[39;00m\n",
      "\u001b[31mModuleNotFoundError\u001b[39m: No module named 'StringIO'"
     ]
    }
   ],
   "source": [
    "import ee\n",
    "import geemap\n",
    "\n",
    "# Authenticate and initialize Earth Engine\n",
    "ee.Authenticate()\n",
    "ee.Initialize(project=\"ee-krle4401\")\n",
    "\n",
    "site_center = ee.Geometry.Point([-83.5, 35.7])"
   ]
  },
  {
   "cell_type": "markdown",
   "metadata": {},
   "source": [
    "#### Pull NEON Imagery from GEE"
   ]
  },
  {
   "cell_type": "code",
   "execution_count": null,
   "metadata": {},
   "outputs": [
    {
     "name": "stderr",
     "output_type": "stream",
     "text": [
      "/Users/kitlewers/NEON_GBIF_Burn_Scar/env/lib/python3.13/site-packages/ee/main.py:150: SyntaxWarning: invalid escape sequence '\\d'\n",
      "  lines = filter(lambda x: re.match(\"^\\d+ bytes\", x), data.splitlines())\n"
     ]
    },
    {
     "ename": "ModuleNotFoundError",
     "evalue": "No module named 'StringIO'",
     "output_type": "error",
     "traceback": [
      "\u001b[31m---------------------------------------------------------------------------\u001b[39m",
      "\u001b[31mModuleNotFoundError\u001b[39m                       Traceback (most recent call last)",
      "\u001b[36mCell\u001b[39m\u001b[36m \u001b[39m\u001b[32mIn[1]\u001b[39m\u001b[32m, line 1\u001b[39m\n\u001b[32m----> \u001b[39m\u001b[32m1\u001b[39m \u001b[38;5;28;01mimport\u001b[39;00m\u001b[38;5;250m \u001b[39m\u001b[34;01mee\u001b[39;00m\n\u001b[32m      2\u001b[39m \u001b[38;5;28;01mimport\u001b[39;00m\u001b[38;5;250m \u001b[39m\u001b[34;01mgeemap\u001b[39;00m\n\u001b[32m      4\u001b[39m \u001b[38;5;66;03m# Authenticate and initialize Earth Engine\u001b[39;00m\n",
      "\u001b[36mFile \u001b[39m\u001b[32m~/NEON_GBIF_Burn_Scar/env/lib/python3.13/site-packages/ee/__init__.py:1\u001b[39m\n\u001b[32m----> \u001b[39m\u001b[32m1\u001b[39m \u001b[38;5;28;01mfrom\u001b[39;00m\u001b[38;5;250m \u001b[39m\u001b[34;01m.\u001b[39;00m\u001b[34;01mmain\u001b[39;00m\u001b[38;5;250m \u001b[39m\u001b[38;5;28;01mimport\u001b[39;00m main\n",
      "\u001b[36mFile \u001b[39m\u001b[32m~/NEON_GBIF_Burn_Scar/env/lib/python3.13/site-packages/ee/main.py:10\u001b[39m\n\u001b[32m      8\u001b[39m \u001b[38;5;28;01mimport\u001b[39;00m\u001b[38;5;250m \u001b[39m\u001b[34;01mstat\u001b[39;00m\n\u001b[32m      9\u001b[39m \u001b[38;5;28;01mimport\u001b[39;00m\u001b[38;5;250m \u001b[39m\u001b[34;01mplistlib\u001b[39;00m\n\u001b[32m---> \u001b[39m\u001b[32m10\u001b[39m \u001b[38;5;28;01mimport\u001b[39;00m\u001b[38;5;250m \u001b[39m\u001b[34;01mStringIO\u001b[39;00m\n\u001b[32m     11\u001b[39m \u001b[38;5;28;01mimport\u001b[39;00m\u001b[38;5;250m \u001b[39m\u001b[34;01mplatform\u001b[39;00m\n\u001b[32m     12\u001b[39m \u001b[38;5;28;01mimport\u001b[39;00m\u001b[38;5;250m \u001b[39m\u001b[34;01mtime\u001b[39;00m\n",
      "\u001b[31mModuleNotFoundError\u001b[39m: No module named 'StringIO'"
     ]
    }
   ],
   "source": [
    "# Load AOP Image Collection\n",
    "sdr_col = ee.ImageCollection('projects/neon-prod-earthengine/assets/HSI_REFL/001')\n",
    "\n",
    "# Retrieve all available image IDs\n",
    "image_ids = sdr_col.aggregate_array(\"system:index\").getInfo()\n",
    "print(\"🔍 Available AOP Image IDs:\", image_ids)\n",
    "\n",
    "# **Function to Filter Images by Multiple Years & Domains**\n",
    "def filter_aop_images(years, domains):\n",
    "    \"\"\"\n",
    "    Filters the AOP image collection based on a list of years and domains.\n",
    "    \n",
    "    Parameters:\n",
    "        years (list): List of years (e.g., [\"2016\", \"2017\"]).\n",
    "        domains (list): List of 4-letter site codes (e.g., [\"GRSM\", \"HARV\"]).\n",
    "    \n",
    "    Returns:\n",
    "        Dictionary with (year, domain) as key and list of matching image IDs.\n",
    "    \"\"\"\n",
    "    filtered_results = {}\n",
    "\n",
    "    for year in years:\n",
    "        for domain in domains:\n",
    "            matching_ids = [img_id for img_id in image_ids if year in img_id and domain in img_id]\n",
    "            if matching_ids:\n",
    "                filtered_results[(year, domain)] = matching_ids\n",
    "\n",
    "    return filtered_results\n",
    "\n",
    "# **User Inputs**\n",
    "years_input = [\"2016\", \"2017\"]  # Add multiple years here\n",
    "domains_input = [\"GRSM\"]  # Add multiple domains here\n",
    "\n",
    "# Get filtered images\n",
    "filtered_images = filter_aop_images(years_input, domains_input)\n",
    "\n",
    "if not filtered_images:\n",
    "    print(f\"No AOP images found for the selected years and domains.\")\n",
    "else:\n",
    "    print(f\"Found AOP images: {filtered_images}\")\n",
    "\n",
    "# NDVI Visualization Parameters\n",
    "ndvi_vis_params = {\n",
    "    'min': -1, 'max': 1,\n",
    "    'palette': ['blue', 'white', 'green']\n",
    "}\n",
    "\n",
    "# Create a geemap Map instance\n",
    "Map = geemap.Map()\n",
    "Map.centerObject(site_center, 10)\n",
    "\n",
    "# Loop through filtered images and compute NDVI\n",
    "for (year, domain), image_ids in filtered_images.items():\n",
    "    for image_id in image_ids:\n",
    "        # Retrieve the image by its system:index\n",
    "        aop_image = sdr_col.filter(ee.Filter.eq(\"system:index\", image_id)).first()\n",
    "\n",
    "        # Function to Compute NDVI\n",
    "        def addAOPBands(image):\n",
    "            ndvi = image.normalizedDifference(['B097', 'B055']).rename('NDVI')\n",
    "            return image.addBands(ndvi).set({'Sensor': 'AOP'})\n",
    "\n",
    "        # Compute NDVI\n",
    "        if aop_image:\n",
    "            aop_ndvi = addAOPBands(aop_image).select('NDVI')\n",
    "            print(f\"NDVI computed for AOP image: {image_id}\")\n",
    "\n",
    "            # Add layer with proper naming\n",
    "            Map.addLayer(aop_ndvi, ndvi_vis_params, f'AOP NDVI ({image_id})')\n",
    "\n",
    "# Save the final interactive HTML map with all selected images\n",
    "html_filename = f\"AOP_NDVI_{'_'.join(years_input)}_{'_'.join(domains_input)}.html\"\n",
    "Map.to_html(filename=html_filename)\n",
    "\n",
    "print(f\"NDVI visualization saved: {html_filename}\")\n"
   ]
  },
  {
   "cell_type": "markdown",
   "metadata": {},
   "source": [
    "#### Pull Records from GBIF"
   ]
  }
 ],
 "metadata": {
  "kernelspec": {
   "display_name": "env",
   "language": "python",
   "name": "python3"
  },
  "language_info": {
   "codemirror_mode": {
    "name": "ipython",
    "version": 3
   },
   "file_extension": ".py",
   "mimetype": "text/x-python",
   "name": "python",
   "nbconvert_exporter": "python",
   "pygments_lexer": "ipython3",
   "version": "3.13.1"
  }
 },
 "nbformat": 4,
 "nbformat_minor": 2
}
