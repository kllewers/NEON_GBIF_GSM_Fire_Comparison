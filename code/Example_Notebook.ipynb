{
 "cells": [
  {
   "cell_type": "markdown",
   "metadata": {},
   "source": [
    "In this notebook, I will be pulling imagery from the year before a fire in the Great Smoky Mountains and after the fire. We will be comparing NDVI and NBR along with pulling species occurrence records from before and after the fire and see how it overlaps with occurrence records."
   ]
  },
  {
   "cell_type": "markdown",
   "metadata": {},
   "source": [
    "#### Declare ROI"
   ]
  },
  {
   "cell_type": "code",
   "execution_count": 18,
   "metadata": {},
   "outputs": [
    {
     "data": {
      "text/html": [
       "\n",
       "            <style>\n",
       "                .geemap-dark {\n",
       "                    --jp-widgets-color: white;\n",
       "                    --jp-widgets-label-color: white;\n",
       "                    --jp-ui-font-color1: white;\n",
       "                    --jp-layout-color2: #454545;\n",
       "                    background-color: #383838;\n",
       "                }\n",
       "\n",
       "                .geemap-dark .jupyter-button {\n",
       "                    --jp-layout-color3: #383838;\n",
       "                }\n",
       "\n",
       "                .geemap-colab {\n",
       "                    background-color: var(--colab-primary-surface-color, white);\n",
       "                }\n",
       "\n",
       "                .geemap-colab .jupyter-button {\n",
       "                    --jp-layout-color3: var(--colab-primary-surface-color, white);\n",
       "                }\n",
       "            </style>\n",
       "            "
      ],
      "text/plain": [
       "<IPython.core.display.HTML object>"
      ]
     },
     "metadata": {},
     "output_type": "display_data"
    }
   ],
   "source": [
    "import ee\n",
    "\n",
    "# Authenticate and initialize Earth Engine\n",
    "ee.Authenticate()\n",
    "ee.Initialize(project=\"ee-krle4401\")\n",
    "\n",
    "site_center = ee.Geometry.Point([-83.5, 35.7])"
   ]
  },
  {
   "cell_type": "code",
   "execution_count": 19,
   "metadata": {},
   "outputs": [
    {
     "data": {
      "text/html": [
       "\n",
       "            <style>\n",
       "                .geemap-dark {\n",
       "                    --jp-widgets-color: white;\n",
       "                    --jp-widgets-label-color: white;\n",
       "                    --jp-ui-font-color1: white;\n",
       "                    --jp-layout-color2: #454545;\n",
       "                    background-color: #383838;\n",
       "                }\n",
       "\n",
       "                .geemap-dark .jupyter-button {\n",
       "                    --jp-layout-color3: #383838;\n",
       "                }\n",
       "\n",
       "                .geemap-colab {\n",
       "                    background-color: var(--colab-primary-surface-color, white);\n",
       "                }\n",
       "\n",
       "                .geemap-colab .jupyter-button {\n",
       "                    --jp-layout-color3: var(--colab-primary-surface-color, white);\n",
       "                }\n",
       "            </style>\n",
       "            "
      ],
      "text/plain": [
       "<IPython.core.display.HTML object>"
      ]
     },
     "metadata": {},
     "output_type": "display_data"
    }
   ],
   "source": [
    "import geemap"
   ]
  },
  {
   "cell_type": "markdown",
   "metadata": {},
   "source": [
    "#### Pull NEON Imagery from GEE"
   ]
  },
  {
   "cell_type": "markdown",
   "metadata": {},
   "source": [
    "#### NDVI Code"
   ]
  },
  {
   "cell_type": "code",
   "execution_count": null,
   "metadata": {},
   "outputs": [
    {
     "data": {
      "text/html": [
       "\n",
       "            <style>\n",
       "                .geemap-dark {\n",
       "                    --jp-widgets-color: white;\n",
       "                    --jp-widgets-label-color: white;\n",
       "                    --jp-ui-font-color1: white;\n",
       "                    --jp-layout-color2: #454545;\n",
       "                    background-color: #383838;\n",
       "                }\n",
       "\n",
       "                .geemap-dark .jupyter-button {\n",
       "                    --jp-layout-color3: #383838;\n",
       "                }\n",
       "\n",
       "                .geemap-colab {\n",
       "                    background-color: var(--colab-primary-surface-color, white);\n",
       "                }\n",
       "\n",
       "                .geemap-colab .jupyter-button {\n",
       "                    --jp-layout-color3: var(--colab-primary-surface-color, white);\n",
       "                }\n",
       "            </style>\n",
       "            "
      ],
      "text/plain": [
       "<IPython.core.display.HTML object>"
      ]
     },
     "metadata": {},
     "output_type": "display_data"
    },
    {
     "name": "stdout",
     "output_type": "stream",
     "text": [
      "🔍 Available AOP Image IDs: ['2013_CPER_1', '2014_HARV_2', '2014_JERC_1', '2015_MLBS_1', '2015_TALL_1', '2016_CLBJ_1', '2016_GRSM_2', '2016_HARV_3', '2016_JERC_2', '2016_SERC_1', '2016_TALL_2', '2017_CLBJ_2', '2017_CPER_3', '2017_GRSM_3', '2017_HARV_4', '2017_JERC_3', '2017_MLBS_2', '2017_OAES_2', '2017_SERC_3', '2017_SRER_1', '2017_TALL_3', '2018_GUAN_1', '2018_HARV_5', '2018_JERC_4', '2018_MCRA_1', '2018_MLBS_3', '2018_OAES_3', '2018_SRER_2', '2018_TALL_4', '2019_CLBJ_4', '2019_HARV_6', '2019_HEAL_3', '2019_JERC_5', '2019_JORN_3', '2019_NIWO_3', '2019_OAES_4', '2019_SERC_4', '2019_SOAP_4', '2019_SRER_3', '2019_TALL_5', '2020_CPER_5', '2020_CPER_7', '2020_NIWO_4', '2020_RMNP_3', '2020_YELL_3', '2021_ABBY_4', '2021_BONA_4', '2021_CLBJ_5', '2021_CPER_8', '2021_HEAL_4', '2021_JERC_6', '2021_JORN_4', '2021_MCRA_2', '2021_OAES_5', '2021_OSBS_6', '2021_SERC_5', '2021_SJER_5', '2021_SOAP_5', '2021_SRER_4', '2021_TALL_6']\n",
      "Found AOP images: {('2016', 'GRSM'): ['2016_GRSM_2'], ('2017', 'GRSM'): ['2017_GRSM_3']}\n",
      "NDVI computed for AOP image: 2016_GRSM_2\n",
      "NDVI computed for AOP image: 2017_GRSM_3\n",
      "NDVI visualization saved: AOP_NDVI_2016_2017_GRSM.html\n"
     ]
    }
   ],
   "source": [
    "# Load AOP Image Collection\n",
    "sdr_col = ee.ImageCollection('projects/neon-prod-earthengine/assets/HSI_REFL/001')\n",
    "\n",
    "# Retrieve all available image IDs\n",
    "image_ids = sdr_col.aggregate_array(\"system:index\").getInfo()\n",
    "print(\"🔍 Available AOP Image IDs:\", image_ids)\n",
    "\n",
    "# **Function to Filter Images by Multiple Years & Domains**\n",
    "def filter_aop_images(years, domains):\n",
    "    \"\"\"\n",
    "    Filters the AOP image collection based on a list of years and domains.\n",
    "    \n",
    "    Parameters:\n",
    "        years (list): List of years (e.g., [\"2016\", \"2017\"]).\n",
    "        domains (list): List of 4-letter site codes (e.g., [\"GRSM\", \"HARV\"]).\n",
    "    \n",
    "    Returns:\n",
    "        Dictionary with (year, domain) as key and list of matching image IDs.\n",
    "    \"\"\"\n",
    "    filtered_results = {}\n",
    "\n",
    "    for year in years:\n",
    "        for domain in domains:\n",
    "            matching_ids = [img_id for img_id in image_ids if year in img_id and domain in img_id]\n",
    "            if matching_ids:\n",
    "                filtered_results[(year, domain)] = matching_ids\n",
    "\n",
    "    return filtered_results\n",
    "\n",
    "# **User Inputs**\n",
    "years_input = [\"2016\", \"2017\"]  # Add multiple years here\n",
    "domains_input = [\"GRSM\"]  # Add multiple domains here\n",
    "\n",
    "# Get filtered images\n",
    "filtered_images = filter_aop_images(years_input, domains_input)\n",
    "\n",
    "if not filtered_images:\n",
    "    print(f\"No AOP images found for the selected years and domains.\")\n",
    "else:\n",
    "    print(f\"Found AOP images: {filtered_images}\")\n",
    "\n",
    "# NDVI Visualization Parameters\n",
    "ndvi_vis_params = {\n",
    "    'min': -1, 'max': 1,\n",
    "    'palette': ['blue', 'white', 'green']\n",
    "}\n",
    "\n",
    "# Create a geemap Map instance\n",
    "Map = geemap.Map()\n",
    "Map.centerObject(site_center, 10)\n",
    "\n",
    "# NBR Visualization Parameters\n",
    "nbr_vis_params = {\n",
    "    'min': -1, 'max': 1,\n",
    "    'palette': ['white', 'yellow', 'red', 'black']  # typical burn severity color ramp\n",
    "}\n",
    "\n",
    "# Function to Compute NBR\n",
    "def addNBRBands(image):\n",
    "    nbr = image.normalizedDifference(['B097', 'B220']).rename('NBR')\n",
    "    return image.addBands(nbr).set({'Sensor': 'AOP'})\n",
    "\n",
    "\n",
    "# Loop through filtered images and compute NDVI + NBR\n",
    "for (year, domain), image_ids in filtered_images.items():\n",
    "    for image_id in image_ids:\n",
    "        # Retrieve the image by its system:index\n",
    "        aop_image = sdr_col.filter(ee.Filter.eq(\"system:index\", image_id)).first()\n",
    "\n",
    "        # Function to Compute NDVI\n",
    "        def addAOPBands(image):\n",
    "            ndvi = image.normalizedDifference(['B097', 'B055']).rename('NDVI')\n",
    "            return image.addBands(ndvi).set({'Sensor': 'AOP'})\n",
    "\n",
    "        # Compute NDVI\n",
    "        if aop_image:\n",
    "            aop_ndvi = addAOPBands(aop_image).select('NDVI')\n",
    "            print(f\"NDVI computed for AOP image: {image_id}\")\n",
    "\n",
    "            # Add layer with proper naming\n",
    "            Map.addLayer(aop_ndvi, ndvi_vis_params, f'AOP NDVI ({image_id})')\n",
    "\n",
    "# Save the final interactive HTML map with all selected images\n",
    "html_filename = f\"AOP_NDVI_{'_'.join(years_input)}_{'_'.join(domains_input)}.html\"\n",
    "Map.to_html(filename=html_filename)\n",
    "\n",
    "print(f\"NDVI visualization saved: {html_filename}\")\n"
   ]
  },
  {
   "cell_type": "markdown",
   "metadata": {},
   "source": [
    "#### NBR Code"
   ]
  },
  {
   "cell_type": "code",
   "execution_count": 5,
   "metadata": {},
   "outputs": [
    {
     "data": {
      "text/html": [
       "\n",
       "            <style>\n",
       "                .geemap-dark {\n",
       "                    --jp-widgets-color: white;\n",
       "                    --jp-widgets-label-color: white;\n",
       "                    --jp-ui-font-color1: white;\n",
       "                    --jp-layout-color2: #454545;\n",
       "                    background-color: #383838;\n",
       "                }\n",
       "\n",
       "                .geemap-dark .jupyter-button {\n",
       "                    --jp-layout-color3: #383838;\n",
       "                }\n",
       "\n",
       "                .geemap-colab {\n",
       "                    background-color: var(--colab-primary-surface-color, white);\n",
       "                }\n",
       "\n",
       "                .geemap-colab .jupyter-button {\n",
       "                    --jp-layout-color3: var(--colab-primary-surface-color, white);\n",
       "                }\n",
       "            </style>\n",
       "            "
      ],
      "text/plain": [
       "<IPython.core.display.HTML object>"
      ]
     },
     "metadata": {},
     "output_type": "display_data"
    },
    {
     "name": "stdout",
     "output_type": "stream",
     "text": [
      "NBR computed for AOP image: 2016_GRSM_2\n",
      "NBR computed for AOP image: 2017_GRSM_3\n",
      "NBR visualization saved: AOP_NBR_2016_2017_GRSM.html\n"
     ]
    }
   ],
   "source": [
    "# NBR Visualization Parameters\n",
    "nbr_vis_params = {\n",
    "    'min': -1, 'max': 1,\n",
    "    'palette': ['white', 'yellow', 'red', 'black']  # typical burn severity color ramp\n",
    "}\n",
    "\n",
    "# Function to Compute NBR\n",
    "def addNBRBands(image):\n",
    "    nbr = image.normalizedDifference(['B097', 'B220']).rename('NBR')\n",
    "    return image.addBands(nbr).set({'Sensor': 'AOP'})\n",
    "\n",
    "# Create a geemap Map instance for NBR visualization\n",
    "NBR_Map = geemap.Map()\n",
    "NBR_Map.centerObject(site_center, 10)\n",
    "\n",
    "# Loop through filtered images and compute NBR\n",
    "for (year, domain), image_ids in filtered_images.items():\n",
    "    for image_id in image_ids:\n",
    "        # Retrieve the image by its system:index\n",
    "        aop_image = sdr_col.filter(ee.Filter.eq(\"system:index\", image_id)).first()\n",
    "\n",
    "        # Compute NBR\n",
    "        if aop_image:\n",
    "            aop_nbr = addNBRBands(aop_image).select('NBR')\n",
    "            print(f\"NBR computed for AOP image: {image_id}\")\n",
    "\n",
    "            # Add layer with proper naming\n",
    "            NBR_Map.addLayer(aop_nbr, nbr_vis_params, f'AOP NBR ({image_id})')\n",
    "\n",
    "# Save the final interactive HTML map for NBR\n",
    "html_nbr_filename = f\"AOP_NBR_{'_'.join(years_input)}_{'_'.join(domains_input)}.html\"\n",
    "NBR_Map.to_html(filename=html_nbr_filename)\n",
    "\n",
    "print(f\"NBR visualization saved: {html_nbr_filename}\")"
   ]
  },
  {
   "cell_type": "markdown",
   "metadata": {},
   "source": [
    "#### Pull NBR and NDVI together as layers in a single map"
   ]
  },
  {
   "cell_type": "code",
   "execution_count": 6,
   "metadata": {},
   "outputs": [
    {
     "data": {
      "text/html": [
       "\n",
       "            <style>\n",
       "                .geemap-dark {\n",
       "                    --jp-widgets-color: white;\n",
       "                    --jp-widgets-label-color: white;\n",
       "                    --jp-ui-font-color1: white;\n",
       "                    --jp-layout-color2: #454545;\n",
       "                    background-color: #383838;\n",
       "                }\n",
       "\n",
       "                .geemap-dark .jupyter-button {\n",
       "                    --jp-layout-color3: #383838;\n",
       "                }\n",
       "\n",
       "                .geemap-colab {\n",
       "                    background-color: var(--colab-primary-surface-color, white);\n",
       "                }\n",
       "\n",
       "                .geemap-colab .jupyter-button {\n",
       "                    --jp-layout-color3: var(--colab-primary-surface-color, white);\n",
       "                }\n",
       "            </style>\n",
       "            "
      ],
      "text/plain": [
       "<IPython.core.display.HTML object>"
      ]
     },
     "metadata": {},
     "output_type": "display_data"
    },
    {
     "name": "stdout",
     "output_type": "stream",
     "text": [
      "🔍 Available AOP Image IDs: ['2013_CPER_1', '2014_HARV_2', '2014_JERC_1', '2015_MLBS_1', '2015_TALL_1', '2016_CLBJ_1', '2016_GRSM_2', '2016_HARV_3', '2016_JERC_2', '2016_SERC_1', '2016_TALL_2', '2017_CLBJ_2', '2017_CPER_3', '2017_GRSM_3', '2017_HARV_4', '2017_JERC_3', '2017_MLBS_2', '2017_OAES_2', '2017_SERC_3', '2017_SRER_1', '2017_TALL_3', '2018_GUAN_1', '2018_HARV_5', '2018_JERC_4', '2018_MCRA_1', '2018_MLBS_3', '2018_OAES_3', '2018_SRER_2', '2018_TALL_4', '2019_CLBJ_4', '2019_HARV_6', '2019_HEAL_3', '2019_JERC_5', '2019_JORN_3', '2019_NIWO_3', '2019_OAES_4', '2019_SERC_4', '2019_SOAP_4', '2019_SRER_3', '2019_TALL_5', '2020_CPER_5', '2020_CPER_7', '2020_NIWO_4', '2020_RMNP_3', '2020_YELL_3', '2021_ABBY_4', '2021_BONA_4', '2021_CLBJ_5', '2021_CPER_8', '2021_HEAL_4', '2021_JERC_6', '2021_JORN_4', '2021_MCRA_2', '2021_OAES_5', '2021_OSBS_6', '2021_SERC_5', '2021_SJER_5', '2021_SOAP_5', '2021_SRER_4', '2021_TALL_6']\n",
      "Found AOP images: {('2016', 'GRSM'): ['2016_GRSM_2'], ('2017', 'GRSM'): ['2017_GRSM_3']}\n",
      "NDVI and NBR computed for AOP image: 2016_GRSM_2\n",
      "NDVI and NBR computed for AOP image: 2017_GRSM_3\n",
      "NDVI and NBR visualization saved: AOP_NDVI_NBR_2016_2017_GRSM.html\n"
     ]
    }
   ],
   "source": [
    "# Load AOP Image Collection\n",
    "sdr_col = ee.ImageCollection('projects/neon-prod-earthengine/assets/HSI_REFL/001')\n",
    "\n",
    "# Retrieve all available image IDs\n",
    "image_ids = sdr_col.aggregate_array(\"system:index\").getInfo()\n",
    "print(\"🔍 Available AOP Image IDs:\", image_ids)\n",
    "\n",
    "# Function to Filter Images by Multiple Years & Domains\n",
    "def filter_aop_images(years, domains):\n",
    "    filtered_results = {}\n",
    "\n",
    "    for year in years:\n",
    "        for domain in domains:\n",
    "            matching_ids = [img_id for img_id in image_ids if year in img_id and domain in img_id]\n",
    "            if matching_ids:\n",
    "                filtered_results[(year, domain)] = matching_ids\n",
    "\n",
    "    return filtered_results\n",
    "\n",
    "# User Inputs\n",
    "years_input = [\"2016\", \"2017\"]  # Add multiple years here\n",
    "domains_input = [\"GRSM\"]  # Add multiple domains here\n",
    "\n",
    "# Get filtered images\n",
    "filtered_images = filter_aop_images(years_input, domains_input)\n",
    "\n",
    "if not filtered_images:\n",
    "    print(f\"No AOP images found for the selected years and domains.\")\n",
    "else:\n",
    "    print(f\"Found AOP images: {filtered_images}\")\n",
    "\n",
    "# NDVI Visualization Parameters\n",
    "ndvi_vis_params = {\n",
    "    'min': -1, 'max': 1,\n",
    "    'palette': ['blue', 'white', 'green']\n",
    "}\n",
    "\n",
    "# NBR Visualization Parameters\n",
    "nbr_vis_params = {\n",
    "    'min': -1, 'max': 1,\n",
    "    'palette': ['white', 'yellow', 'red', 'black']\n",
    "}\n",
    "\n",
    "# Function to Compute NDVI and NBR\n",
    "def addNDVI_NBR_Bands(image):\n",
    "    ndvi = image.normalizedDifference(['B097', 'B055']).rename('NDVI')\n",
    "    nbr = image.normalizedDifference(['B097', 'B220']).rename('NBR')\n",
    "    return image.addBands([ndvi, nbr]).set({'Sensor': 'AOP'})\n",
    "\n",
    "# Create a geemap Map instance\n",
    "Map = geemap.Map()\n",
    "Map.centerObject(site_center, 10)\n",
    "\n",
    "# Loop through filtered images and compute NDVI + NBR\n",
    "for (year, domain), image_ids in filtered_images.items():\n",
    "    for image_id in image_ids:\n",
    "        aop_image = sdr_col.filter(ee.Filter.eq(\"system:index\", image_id)).first()\n",
    "\n",
    "        if aop_image:\n",
    "            aop_indices = addNDVI_NBR_Bands(aop_image)\n",
    "            aop_ndvi = aop_indices.select('NDVI')\n",
    "            aop_nbr = aop_indices.select('NBR')\n",
    "\n",
    "            print(f\"NDVI and NBR computed for AOP image: {image_id}\")\n",
    "\n",
    "            # Add layers with proper naming\n",
    "            Map.addLayer(aop_ndvi, ndvi_vis_params, f'AOP NDVI ({image_id})')\n",
    "            Map.addLayer(aop_nbr, nbr_vis_params, f'AOP NBR ({image_id})')\n",
    "\n",
    "# Save the final interactive HTML map with all selected images\n",
    "html_filename = f\"AOP_NDVI_NBR_{'_'.join(years_input)}_{'_'.join(domains_input)}.html\"\n",
    "Map.to_html(filename=html_filename)\n",
    "\n",
    "print(f\"NDVI and NBR visualization saved: {html_filename}\")\n"
   ]
  },
  {
   "cell_type": "markdown",
   "metadata": {},
   "source": [
    "#### Pull Records from GBIF"
   ]
  },
  {
   "cell_type": "code",
   "execution_count": 14,
   "metadata": {},
   "outputs": [
    {
     "data": {
      "text/html": [
       "\n",
       "            <style>\n",
       "                .geemap-dark {\n",
       "                    --jp-widgets-color: white;\n",
       "                    --jp-widgets-label-color: white;\n",
       "                    --jp-ui-font-color1: white;\n",
       "                    --jp-layout-color2: #454545;\n",
       "                    background-color: #383838;\n",
       "                }\n",
       "\n",
       "                .geemap-dark .jupyter-button {\n",
       "                    --jp-layout-color3: #383838;\n",
       "                }\n",
       "\n",
       "                .geemap-colab {\n",
       "                    background-color: var(--colab-primary-surface-color, white);\n",
       "                }\n",
       "\n",
       "                .geemap-colab .jupyter-button {\n",
       "                    --jp-layout-color3: var(--colab-primary-surface-color, white);\n",
       "                }\n",
       "            </style>\n",
       "            "
      ],
      "text/plain": [
       "<IPython.core.display.HTML object>"
      ]
     },
     "metadata": {},
     "output_type": "display_data"
    },
    {
     "name": "stderr",
     "output_type": "stream",
     "text": [
      "INFO:Created 300 records\n"
     ]
    },
    {
     "name": "stdout",
     "output_type": "stream",
     "text": [
      "                 species   latitude  longitude                    geometry\n",
      "0       Mitchella repens  35.643423 -83.575888  POINT (-83.57589 35.64342)\n",
      "1       Carex fraseriana  35.686088 -83.419037  POINT (-83.41904 35.68609)\n",
      "2      Huperzia lucidula  35.671424 -83.522858  POINT (-83.52286 35.67142)\n",
      "3      Huperzia lucidula  35.663077 -83.452427  POINT (-83.45243 35.66308)\n",
      "4  Platanus occidentalis  35.686755 -83.501092  POINT (-83.50109 35.68676)\n"
     ]
    }
   ],
   "source": [
    "from pygbif import occurrences as gbif_occ\n",
    "import geopandas as gpd\n",
    "from shapely.geometry import Point, Polygon\n",
    "\n",
    "latitude, longitude = 35.6118, -83.4895\n",
    "bbox_size_deg = 0.09  # Approx. 10 km (~0.09 degrees latitude/longitude)\n",
    "bounding_box_coords = [\n",
    "    (longitude - bbox_size_deg, latitude - bbox_size_deg),  # Bottom-left\n",
    "    (longitude + bbox_size_deg, latitude - bbox_size_deg),  # Bottom-right\n",
    "    (longitude + bbox_size_deg, latitude + bbox_size_deg),  # Top-right\n",
    "    (longitude - bbox_size_deg, latitude + bbox_size_deg),  # Top-left\n",
    "    (longitude - bbox_size_deg, latitude - bbox_size_deg),  # Close the polygon\n",
    "]\n",
    "\n",
    "# Create a Polygon object and convert it to WKT\n",
    "bounding_polygon = Polygon(bounding_box_coords)\n",
    "polygon_wkt = bounding_polygon.wkt  # Correctly formatted for GBIF\n",
    "\n",
    "# GBIF query using centroid and radius\n",
    "occurrences = gbif_occ.search(\n",
    "    taxonKey=6,  # plants\n",
    "    geometry= polygon_wkt,\n",
    "    hasCoordinate=True,\n",
    "    limit=300\n",
    ")\n",
    "\n",
    "# Extract and clean records from GBIF response\n",
    "records = []\n",
    "for occ in occurrences.get(\"results\", []):\n",
    "    try:\n",
    "        lat = float(occ[\"decimalLatitude\"])\n",
    "        lon = float(occ[\"decimalLongitude\"])\n",
    "\n",
    "        records.append({\n",
    "            \"species\": occ.get(\"species\", \"Unknown\"),\n",
    "            \"latitude\": lat,\n",
    "            \"longitude\": lon,\n",
    "        })\n",
    "    except (KeyError, TypeError, ValueError):\n",
    "        continue\n",
    "\n",
    "# Create GeoDataFrame\n",
    "geo_df = gpd.GeoDataFrame(\n",
    "    records,\n",
    "    geometry=[Point(xy) for xy in zip(\n",
    "        [rec[\"longitude\"] for rec in records],\n",
    "        [rec[\"latitude\"] for rec in records]\n",
    "    )],\n",
    "    crs=\"EPSG:4326\"\n",
    ")\n",
    "\n",
    "# Save GeoDataFrame as GeoJSON\n",
    "geo_df.to_file(\"gbif_gsmnp_centroid.geojson\", driver=\"GeoJSON\")\n",
    "\n",
    "# Display first few records\n",
    "print(geo_df.head())"
   ]
  },
  {
   "cell_type": "markdown",
   "metadata": {},
   "source": [
    "#### Workflow Combined"
   ]
  },
  {
   "cell_type": "code",
   "execution_count": 17,
   "metadata": {},
   "outputs": [
    {
     "data": {
      "text/html": [
       "\n",
       "            <style>\n",
       "                .geemap-dark {\n",
       "                    --jp-widgets-color: white;\n",
       "                    --jp-widgets-label-color: white;\n",
       "                    --jp-ui-font-color1: white;\n",
       "                    --jp-layout-color2: #454545;\n",
       "                    background-color: #383838;\n",
       "                }\n",
       "\n",
       "                .geemap-dark .jupyter-button {\n",
       "                    --jp-layout-color3: #383838;\n",
       "                }\n",
       "\n",
       "                .geemap-colab {\n",
       "                    background-color: var(--colab-primary-surface-color, white);\n",
       "                }\n",
       "\n",
       "                .geemap-colab .jupyter-button {\n",
       "                    --jp-layout-color3: var(--colab-primary-surface-color, white);\n",
       "                }\n",
       "            </style>\n",
       "            "
      ],
      "text/plain": [
       "<IPython.core.display.HTML object>"
      ]
     },
     "metadata": {},
     "output_type": "display_data"
    },
    {
     "name": "stderr",
     "output_type": "stream",
     "text": [
      "INFO:Created 600 records\n"
     ]
    },
    {
     "name": "stdout",
     "output_type": "stream",
     "text": [
      "Combined NEON + GBIF map saved: GSMNP_NEON_GBIF_2016_2017.html\n"
     ]
    }
   ],
   "source": [
    "# NEON and GBIF Integration for GSMNP (2016-2017)\n",
    "\n",
    "import geemap\n",
    "import ee\n",
    "from pygbif import occurrences as gbif_occ\n",
    "import geopandas as gpd\n",
    "from shapely.geometry import Point, Polygon\n",
    "\n",
    "# Initialize Earth Engine\n",
    "ee.Authenticate()\n",
    "ee.Initialize(project=\"ee-krle4401\")\n",
    "\n",
    "# GSMNP centroid\n",
    "latitude, longitude = 35.6118, -83.4895\n",
    "bbox_size_deg = 0.09  # Approx. 10 km (~0.09 degrees latitude/longitude)\n",
    "\n",
    "# Create bounding box\n",
    "bounding_box_coords = [\n",
    "    (longitude - bbox_size_deg, latitude - bbox_size_deg),  # Bottom-left\n",
    "    (longitude + bbox_size_deg, latitude - bbox_size_deg),  # Bottom-right\n",
    "    (longitude + bbox_size_deg, latitude + bbox_size_deg),  # Top-right\n",
    "    (longitude - bbox_size_deg, latitude + bbox_size_deg),  # Top-left\n",
    "    (longitude - bbox_size_deg, latitude - bbox_size_deg),  # Close polygon\n",
    "]\n",
    "\n",
    "bounding_polygon = Polygon(bounding_box_coords)\n",
    "polygon_wkt = bounding_polygon.wkt\n",
    "\n",
    "# Query GBIF for 2016-2017 plant records within bounding polygon\n",
    "records = []\n",
    "for year in [2016, 2017]:\n",
    "    occurrences = gbif_occ.search(\n",
    "        taxonKey=6,  # plants\n",
    "        geometry=polygon_wkt,\n",
    "        year=year,\n",
    "        hasCoordinate=True,\n",
    "        limit=300\n",
    "    )\n",
    "\n",
    "    for occ in occurrences.get(\"results\", []):\n",
    "        try:\n",
    "            lat = float(occ[\"decimalLatitude\"])\n",
    "            lon = float(occ[\"decimalLongitude\"])\n",
    "\n",
    "            records.append({\n",
    "                \"species\": occ.get(\"species\", \"Unknown\"),\n",
    "                \"latitude\": lat,\n",
    "                \"longitude\": lon,\n",
    "                \"year\": year\n",
    "            })\n",
    "        except (KeyError, TypeError, ValueError):\n",
    "            continue\n",
    "\n",
    "# Convert GBIF records to GeoDataFrame\n",
    "gbif_gdf = gpd.GeoDataFrame(\n",
    "    records,\n",
    "    geometry=gpd.points_from_xy([r['longitude'] for r in records], [r['latitude'] for r in records]),\n",
    "    crs=\"EPSG:4326\"\n",
    ")\n",
    "\n",
    "# Save GBIF records as GeoJSON\n",
    "gbif_gdf.to_file(\"gbif_gsmnp_2016_2017.geojson\", driver=\"GeoJSON\")\n",
    "\n",
    "# NEON imagery setup\n",
    "sdr_col = ee.ImageCollection('projects/neon-prod-earthengine/assets/HSI_REFL/001')\n",
    "image_ids = sdr_col.aggregate_array(\"system:index\").getInfo()\n",
    "\n",
    "# Filter NEON images\n",
    "filtered_images = {year: [img_id for img_id in image_ids if str(year) in img_id and \"GRSM\" in img_id]\n",
    "                   for year in [2016, 2017]}\n",
    "\n",
    "# NDVI & NBR visualization parameters\n",
    "ndvi_vis_params = {'min': -1, 'max': 1, 'palette': ['blue', 'white', 'green']}\n",
    "nbr_vis_params = {'min': -1, 'max': 1, 'palette': ['white', 'yellow', 'red', 'black']}\n",
    "\n",
    "# NDVI and NBR computation function\n",
    "def addNDVI_NBR(image):\n",
    "    ndvi = image.normalizedDifference(['B097', 'B055']).rename('NDVI')\n",
    "    nbr = image.normalizedDifference(['B097', 'B220']).rename('NBR')\n",
    "    return image.addBands([ndvi, nbr]).set({'Sensor': 'AOP'})\n",
    "\n",
    "# Initialize geemap\n",
    "Map = geemap.Map()\n",
    "Map.centerObject(ee.Geometry.Point(longitude, latitude), 12)\n",
    "\n",
    "# Plot NEON NDVI and NBR\n",
    "for year, ids in filtered_images.items():\n",
    "    for image_id in ids:\n",
    "        image = sdr_col.filter(ee.Filter.eq(\"system:index\", image_id)).first()\n",
    "        if image:\n",
    "            image_indices = addNDVI_NBR(image)\n",
    "            Map.addLayer(image_indices.select('NDVI'), ndvi_vis_params, f\"NDVI {image_id}\")\n",
    "            Map.addLayer(image_indices.select('NBR'), nbr_vis_params, f\"NBR {image_id}\")\n",
    "\n",
    "# Plot GBIF records by year separately\n",
    "for year in [2016, 2017]:\n",
    "    year_gdf = gbif_gdf[gbif_gdf['year'] == year]\n",
    "    Map.add_gdf(year_gdf, layer_name=f\"GBIF Plants ({year})\")\n",
    "\n",
    "# Save combined interactive map\n",
    "html_filename = \"GSMNP_NEON_GBIF_2016_2017.html\"\n",
    "Map.to_html(filename=html_filename)\n",
    "\n",
    "print(f\"Combined NEON + GBIF map saved: {html_filename}\")"
   ]
  }
 ],
 "metadata": {
  "kernelspec": {
   "display_name": "env",
   "language": "python",
   "name": "python3"
  },
  "language_info": {
   "codemirror_mode": {
    "name": "ipython",
    "version": 3
   },
   "file_extension": ".py",
   "mimetype": "text/x-python",
   "name": "python",
   "nbconvert_exporter": "python",
   "pygments_lexer": "ipython3",
   "version": "3.13.1"
  }
 },
 "nbformat": 4,
 "nbformat_minor": 2
}
